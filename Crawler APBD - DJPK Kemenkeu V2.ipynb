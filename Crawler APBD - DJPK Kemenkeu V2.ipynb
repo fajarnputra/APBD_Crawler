{
 "cells": [
  {
   "cell_type": "markdown",
   "metadata": {},
   "source": [
    "# Crawler for DJPK Data 17/18 (Should Be Applicable for Other Years)\n",
    "\n",
    "Website: https://djpk.kemenkeu.go.id/portal/data/apbd"
   ]
  },
  {
   "cell_type": "markdown",
   "metadata": {},
   "source": [
    "For this occasion, we only try to crawl data in years 2017 and 2018 \n",
    "\n",
    "**Before use this crawler, please read the readme file**"
   ]
  },
  {
   "cell_type": "markdown",
   "metadata": {},
   "source": [
    "Kode digunakan untuk mempercepat proses pengambilan data yang akan memakan waktu cukup lama jika dilakukan secara manual\n",
    "1. Tahap pertama, data collection, dilakukan menggunakan python\n",
    "2. Tahap kedua, data cleaning, dilakukan menggunakan STATA\n",
    "3. Tahap analisis, data analysis, sesuai kebutuhan, disini konteksnya menggunakan Excel\n",
    "\n",
    "Sebelum melakukan crawling pastikan sudah menginstall library yang dibutuhkan dan juga telah mendownload edge driver dan menaruh di lokasi berikut: C:/Users/hp/Downloads/scraping_tools/ atau dapat diubah sesuai lokasi dengan menyesuaikan nama user \n",
    "\n",
    "(Disarankan menaruh di lokasi tersebut supaya tidak perlu mengganti kode dibawah atau tinggal run saja)"
   ]
  },
  {
   "cell_type": "markdown",
   "metadata": {},
   "source": [
    "Catatan:\n",
    "\n",
    "1. Untuk mempermudah crawling, kode dapat dilakukan sesuai kebutuhan yang akan diambil datanya (untuk mempersingkat waktu crawling)\n",
    "2. Setelah seluruh file terdownload, dijadikan ke dalam setiap folder sesuai dengan kode provinsi\n",
    "3. Mengapa harus dijadikan satu folder? karena tahap pengolahan atau proses cleaning data selanjutnya akan menggunakan software STATA dan metode clening disetting pada kondisi setiap data sudah dipisah dalam setiap folder provinsi"
   ]
  },
  {
   "cell_type": "markdown",
   "metadata": {
    "ExecuteTime": {
     "end_time": "2023-01-07T03:54:07.926721Z",
     "start_time": "2023-01-07T03:54:07.917805Z"
    }
   },
   "source": [
    "## Import Relevant Library or Global Variable to work on"
   ]
  },
  {
   "cell_type": "code",
   "execution_count": null,
   "metadata": {},
   "outputs": [],
   "source": [
    "import selenium\n",
    "import bs4\n",
    "from selenium import webdriver\n",
    "from urllib.request import urlopen as uReq\n",
    "from bs4 import BeautifulSoup as soup\n",
    "import pandas as pd\n",
    "driver = webdriver.Edge(executable_path=r'C:/Users/hp/Downloads/scraping_tools/msedgedriver.exe')"
   ]
  },
  {
   "cell_type": "markdown",
   "metadata": {},
   "source": [
    "## National"
   ]
  },
  {
   "cell_type": "code",
   "execution_count": 44,
   "metadata": {},
   "outputs": [],
   "source": [
    "# Locate the link for downloading the data\n",
    "myurl1 = 'http://www.djpk.kemenkeu.go.id/portal/data/csv/'\n",
    "myurl2 = '/--/--/apbd'\n",
    "\n",
    "# nasional\n",
    "for tahun in range(2017, 2019):\n",
    "    driver.get(myurl1 + str(tahun) + myurl2)"
   ]
  },
  {
   "cell_type": "markdown",
   "metadata": {},
   "source": [
    "## Province Level Data Only"
   ]
  },
  {
   "cell_type": "code",
   "execution_count": 1,
   "metadata": {},
   "outputs": [],
   "source": [
    "# Download data provinsi ONLY 2017\n",
    "myurl1 = 'http://www.djpk.kemenkeu.go.id/portal/data/csv/'\n",
    "myurl2 = '/00/apbd'\n",
    "tahun = 2017\n",
    "\n",
    "# provinsi ONLY\n",
    "for number in range(1, 35):\n",
    "    if number < 10:\n",
    "        driver.get(myurl1 + str(tahun) + \"/0\" + str(number) + myurl2)\n",
    "    else:\n",
    "        driver.get(myurl1 + str(tahun) + \"/\" + str(number) + myurl2)"
   ]
  },
  {
   "cell_type": "code",
   "execution_count": 1,
   "metadata": {},
   "outputs": [],
   "source": [
    "# Download data provinsi ONLY 2018\n",
    "myurl1 = 'http://www.djpk.kemenkeu.go.id/portal/data/csv/'\n",
    "myurl2 = '/00/apbd'\n",
    "tahun = 2018\n",
    "\n",
    "# provinsi ONLY\n",
    "for number in range(1, 35):\n",
    "    if number < 10:\n",
    "        driver.get(myurl1 + str(tahun) + \"/0\" + str(number) + myurl2)\n",
    "    else:\n",
    "        driver.get(myurl1 + str(tahun) + \"/\" + str(number) + myurl2)"
   ]
  },
  {
   "cell_type": "markdown",
   "metadata": {},
   "source": [
    "## Municipal Level Data (by Each Province)\n",
    "\n",
    "To avoid error or mistake in the code, we run the crawler by province since there is difference number of municipal in each provinsi and structure of the website caused by the new province"
   ]
  },
  {
   "cell_type": "code",
   "execution_count": 5,
   "metadata": {
    "ExecuteTime": {
     "end_time": "2023-01-07T04:20:17.312957Z",
     "start_time": "2023-01-07T04:20:17.296915Z"
    }
   },
   "outputs": [],
   "source": [
    "# INI PERLU DIRUN DULU KALI YA SEBELUM RUN PER PROVINSI\n",
    "# test to generate list of data number of regency within each province in arrays \n",
    "num_regency = [0, 23, 33, 19, 12, 11, 17, 10, 15, 6, 27, 35, 5, 38, 14, \\\n",
    "               14, 13, 10, 15, 13, 24, 17, 9, 10, 22, 11, 29, 10, 8, 7, 6, 7, 13, 6, 5]\n",
    "\n",
    "# Information to be edited for each province: \n",
    "# 1. Name for each analysis\n",
    "# 2. myurl2 changed to relevant province number\n",
    "# 3. num_regency[i], i changed to relevant province number"
   ]
  },
  {
   "cell_type": "code",
   "execution_count": 12,
   "metadata": {},
   "outputs": [],
   "source": [
    "# DATA FOR ACEH PROVINCE (2017 & 2018)\n",
    "# Download data KABKOT ONLY\n",
    "myurl1 = 'http://www.djpk.kemenkeu.go.id/portal/data/csv/'\n",
    "myurl2 = '/01/'\n",
    "myurl3 = '/apbd'\n",
    "\n",
    "for tahun in range(2017,2019):\n",
    "    for number in range(1, num_regency[1]+1):\n",
    "        if number < 10:\n",
    "            driver.get(myurl1 + str(tahun) + myurl2 + \"0\" + str(number) + myurl3)\n",
    "        else:\n",
    "            driver.get(myurl1 + str(tahun) + myurl2 + str(number) + myurl3)"
   ]
  },
  {
   "cell_type": "code",
   "execution_count": 3,
   "metadata": {},
   "outputs": [],
   "source": [
    "# DATA FOR SUMATERA UTARA PROVINCE (2017 & 2018)\n",
    "# Download data KABKOT ONLY\n",
    "myurl1 = 'http://www.djpk.kemenkeu.go.id/portal/data/csv/'\n",
    "myurl2 = '/02/'\n",
    "myurl3 = '/apbd'\n",
    "\n",
    "for tahun in range(2017,2019):\n",
    "    for number in range(1, num_regency[2]+1):\n",
    "        if number < 10:\n",
    "            driver.get(myurl1 + str(tahun) + myurl2 + \"0\" + str(number) + myurl3)\n",
    "        else:\n",
    "            driver.get(myurl1 + str(tahun) + myurl2 + str(number) + myurl3)"
   ]
  },
  {
   "cell_type": "code",
   "execution_count": 4,
   "metadata": {},
   "outputs": [],
   "source": [
    "# DATA FOR SUMATERA BARAT PROVINCE (2017 & 2018)\n",
    "# Download data KABKOT ONLY\n",
    "myurl1 = 'http://www.djpk.kemenkeu.go.id/portal/data/csv/'\n",
    "myurl2 = '/03/'\n",
    "myurl3 = '/apbd'\n",
    "\n",
    "for tahun in range(2017,2019):\n",
    "    for number in range(1, num_regency[3]+1):\n",
    "        if number < 10:\n",
    "            driver.get(myurl1 + str(tahun) + myurl2 + \"0\" + str(number) + myurl3)\n",
    "        else:\n",
    "            driver.get(myurl1 + str(tahun) + myurl2 + str(number) + myurl3)"
   ]
  },
  {
   "cell_type": "code",
   "execution_count": 5,
   "metadata": {},
   "outputs": [],
   "source": [
    "# DATA FOR RIAU PROVINCE (2017 & 2018)\n",
    "# Download data KABKOT ONLY\n",
    "myurl1 = 'http://www.djpk.kemenkeu.go.id/portal/data/csv/'\n",
    "myurl2 = '/04/'\n",
    "myurl3 = '/apbd'\n",
    "\n",
    "for tahun in range(2017,2019):\n",
    "    for number in range(1, num_regency[4]+1):\n",
    "        if number < 10:\n",
    "            driver.get(myurl1 + str(tahun) + myurl2 + \"0\" + str(number) + myurl3)\n",
    "        else:\n",
    "            driver.get(myurl1 + str(tahun) + myurl2 + str(number) + myurl3)"
   ]
  },
  {
   "cell_type": "code",
   "execution_count": 7,
   "metadata": {},
   "outputs": [],
   "source": [
    "# DATA FOR JAMBI PROVINCE (2017 & 2018)\n",
    "# Download data KABKOT ONLY\n",
    "myurl1 = 'http://www.djpk.kemenkeu.go.id/portal/data/csv/'\n",
    "myurl2 = '/05/'\n",
    "myurl3 = '/apbd'\n",
    "\n",
    "for tahun in range(2017,2019):\n",
    "    for number in range(1, num_regency[5]+1):\n",
    "        if number < 10:\n",
    "            driver.get(myurl1 + str(tahun) + myurl2 + \"0\" + str(number) + myurl3)\n",
    "        else:\n",
    "            driver.get(myurl1 + str(tahun) + myurl2 + str(number) + myurl3)"
   ]
  },
  {
   "cell_type": "code",
   "execution_count": 8,
   "metadata": {},
   "outputs": [],
   "source": [
    "# DATA FOR SUMATERA SELATAN PROVINCE (2017 & 2018)\n",
    "# Download data KABKOT ONLY\n",
    "myurl1 = 'http://www.djpk.kemenkeu.go.id/portal/data/csv/'\n",
    "myurl2 = '/06/'\n",
    "myurl3 = '/apbd'\n",
    "\n",
    "for tahun in range(2017,2019):\n",
    "    for number in range(1, num_regency[6]+1):\n",
    "        if number < 10:\n",
    "            driver.get(myurl1 + str(tahun) + myurl2 + \"0\" + str(number) + myurl3)\n",
    "        else:\n",
    "            driver.get(myurl1 + str(tahun) + myurl2 + str(number) + myurl3)"
   ]
  },
  {
   "cell_type": "code",
   "execution_count": 9,
   "metadata": {},
   "outputs": [],
   "source": [
    "# DATA FOR BENGKULU PROVINCE (2017 & 2018)\n",
    "# Download data KABKOT ONLY\n",
    "myurl1 = 'http://www.djpk.kemenkeu.go.id/portal/data/csv/'\n",
    "myurl2 = '/07/'\n",
    "myurl3 = '/apbd'\n",
    "\n",
    "for tahun in range(2017,2019):\n",
    "    for number in range(1, num_regency[7]+1):\n",
    "        if number < 10:\n",
    "            driver.get(myurl1 + str(tahun) + myurl2 + \"0\" + str(number) + myurl3)\n",
    "        else:\n",
    "            driver.get(myurl1 + str(tahun) + myurl2 + str(number) + myurl3)"
   ]
  },
  {
   "cell_type": "code",
   "execution_count": 10,
   "metadata": {},
   "outputs": [],
   "source": [
    "# SKIPPED BECAUSE DKI JAKARTA ONLY HAS PROVINCE LEVEL DATA\n",
    "\n",
    "# DATA FOR DKI JAKARTA PROVINCE (2017 & 2018)\n",
    "# Download data KABKOT ONLY\n",
    "myurl1 = 'http://www.djpk.kemenkeu.go.id/portal/data/csv/'\n",
    "myurl2 = '/09/'\n",
    "myurl3 = '/apbd'\n",
    "\n",
    "for tahun in range(2017,2019):\n",
    "    for number in range(1, num_regency[9]+1):\n",
    "        if number < 10:\n",
    "            driver.get(myurl1 + str(tahun) + myurl2 + \"0\" + str(number) + myurl3)\n",
    "        else:\n",
    "            driver.get(myurl1 + str(tahun) + myurl2 + str(number) + myurl3)"
   ]
  },
  {
   "cell_type": "code",
   "execution_count": 11,
   "metadata": {},
   "outputs": [],
   "source": [
    "# DATA FOR JAWA BARAT PROVINCE (2017 & 2018)\n",
    "# Download data KABKOT ONLY\n",
    "myurl1 = 'http://www.djpk.kemenkeu.go.id/portal/data/csv/'\n",
    "myurl2 = '/10/'\n",
    "myurl3 = '/apbd'\n",
    "\n",
    "for tahun in range(2017,2019):\n",
    "    for number in range(1, num_regency[10]+1):\n",
    "        if number < 10:\n",
    "            driver.get(myurl1 + str(tahun) + myurl2 + \"0\" + str(number) + myurl3)\n",
    "        else:\n",
    "            driver.get(myurl1 + str(tahun) + myurl2 + str(number) + myurl3)"
   ]
  },
  {
   "cell_type": "code",
   "execution_count": 12,
   "metadata": {},
   "outputs": [],
   "source": [
    "# DATA FOR JAWA TENGAH PROVINCE (2017 & 2018)\n",
    "# Download data KABKOT ONLY\n",
    "myurl1 = 'http://www.djpk.kemenkeu.go.id/portal/data/csv/'\n",
    "myurl2 = '/11/'\n",
    "myurl3 = '/apbd'\n",
    "\n",
    "for tahun in range(2017,2019):\n",
    "    for number in range(1, num_regency[11]+1):\n",
    "        if number < 10:\n",
    "            driver.get(myurl1 + str(tahun) + myurl2 + \"0\" + str(number) + myurl3)\n",
    "        else:\n",
    "            driver.get(myurl1 + str(tahun) + myurl2 + str(number) + myurl3)"
   ]
  },
  {
   "cell_type": "code",
   "execution_count": 13,
   "metadata": {},
   "outputs": [],
   "source": [
    "# DATA FOR DIY PROVINCE (2017 & 2018)\n",
    "# Download data KABKOT ONLY\n",
    "myurl1 = 'http://www.djpk.kemenkeu.go.id/portal/data/csv/'\n",
    "myurl2 = '/12/'\n",
    "myurl3 = '/apbd'\n",
    "\n",
    "for tahun in range(2017,2019):\n",
    "    for number in range(1, num_regency[12]+1):\n",
    "        if number < 10:\n",
    "            driver.get(myurl1 + str(tahun) + myurl2 + \"0\" + str(number) + myurl3)\n",
    "        else:\n",
    "            driver.get(myurl1 + str(tahun) + myurl2 + str(number) + myurl3)"
   ]
  },
  {
   "cell_type": "code",
   "execution_count": 14,
   "metadata": {},
   "outputs": [],
   "source": [
    "# DATA FOR JAWA TIMUR PROVINCE (2017 & 2018)\n",
    "# Download data KABKOT ONLY\n",
    "myurl1 = 'http://www.djpk.kemenkeu.go.id/portal/data/csv/'\n",
    "myurl2 = '/13/'\n",
    "myurl3 = '/apbd'\n",
    "\n",
    "for tahun in range(2017,2019):\n",
    "    for number in range(1, num_regency[13]+1):\n",
    "        if number < 10:\n",
    "            driver.get(myurl1 + str(tahun) + myurl2 + \"0\" + str(number) + myurl3)\n",
    "        else:\n",
    "            driver.get(myurl1 + str(tahun) + myurl2 + str(number) + myurl3)"
   ]
  },
  {
   "cell_type": "code",
   "execution_count": 15,
   "metadata": {},
   "outputs": [],
   "source": [
    "# DATA FOR KALIMANTAN BARAT PROVINCE (2017 & 2018)\n",
    "# Download data KABKOT ONLY\n",
    "myurl1 = 'http://www.djpk.kemenkeu.go.id/portal/data/csv/'\n",
    "myurl2 = '/14/'\n",
    "myurl3 = '/apbd'\n",
    "\n",
    "for tahun in range(2017,2019):\n",
    "    for number in range(1, num_regency[14]+1):\n",
    "        if number < 10:\n",
    "            driver.get(myurl1 + str(tahun) + myurl2 + \"0\" + str(number) + myurl3)\n",
    "        else:\n",
    "            driver.get(myurl1 + str(tahun) + myurl2 + str(number) + myurl3)"
   ]
  },
  {
   "cell_type": "code",
   "execution_count": 16,
   "metadata": {},
   "outputs": [],
   "source": [
    "# DATA FOR KALIMANTAN TENGAH PROVINCE (2017 & 2018)\n",
    "# Download data KABKOT ONLY\n",
    "myurl1 = 'http://www.djpk.kemenkeu.go.id/portal/data/csv/'\n",
    "myurl2 = '/15/'\n",
    "myurl3 = '/apbd'\n",
    "\n",
    "for tahun in range(2017,2019):\n",
    "    for number in range(1, num_regency[15]+1):\n",
    "        if number < 10:\n",
    "            driver.get(myurl1 + str(tahun) + myurl2 + \"0\" + str(number) + myurl3)\n",
    "        else:\n",
    "            driver.get(myurl1 + str(tahun) + myurl2 + str(number) + myurl3)"
   ]
  },
  {
   "cell_type": "code",
   "execution_count": 17,
   "metadata": {},
   "outputs": [],
   "source": [
    "# DATA FOR KALIMANTAN SELATAN PROVINCE (2017 & 2018)\n",
    "# Download data KABKOT ONLY\n",
    "myurl1 = 'http://www.djpk.kemenkeu.go.id/portal/data/csv/'\n",
    "myurl2 = '/16/'\n",
    "myurl3 = '/apbd'\n",
    "\n",
    "for tahun in range(2017,2019):\n",
    "    for number in range(1, num_regency[16]+1):\n",
    "        if number < 10:\n",
    "            driver.get(myurl1 + str(tahun) + myurl2 + \"0\" + str(number) + myurl3)\n",
    "        else:\n",
    "            driver.get(myurl1 + str(tahun) + myurl2 + str(number) + myurl3)"
   ]
  },
  {
   "cell_type": "code",
   "execution_count": 22,
   "metadata": {},
   "outputs": [],
   "source": [
    "# DATA FOR KALIMANTAN TIMUR PROVINCE (2017 & 2018)\n",
    "# Download data KABKOT ONLY\n",
    "myurl1 = 'http://www.djpk.kemenkeu.go.id/portal/data/csv/'\n",
    "myurl2 = '/17/'\n",
    "myurl3 = '/apbd'\n",
    "\n",
    "# SPESIAL KARENA AWALNYA 15 KABKOT JADI 10 KABKOT (BEBERAPA MISSING SEHINGGA PERLU PENYESUAIAN)\n",
    "for tahun in range(2017,2019):\n",
    "    for number in range(1, num_regency[17]+6):\n",
    "        if number < 10:\n",
    "            driver.get(myurl1 + str(tahun) + myurl2 + \"0\" + str(number) + myurl3)\n",
    "        else:\n",
    "            driver.get(myurl1 + str(tahun) + myurl2 + str(number) + myurl3)"
   ]
  },
  {
   "cell_type": "code",
   "execution_count": 23,
   "metadata": {},
   "outputs": [],
   "source": [
    "# DATA FOR SULAWESI UTARA PROVINCE (2017 & 2018)\n",
    "# Download data KABKOT ONLY\n",
    "myurl1 = 'http://www.djpk.kemenkeu.go.id/portal/data/csv/'\n",
    "myurl2 = '/18/'\n",
    "myurl3 = '/apbd'\n",
    "\n",
    "for tahun in range(2017,2019):\n",
    "    for number in range(1, num_regency[18]+1):\n",
    "        if number < 10:\n",
    "            driver.get(myurl1 + str(tahun) + myurl2 + \"0\" + str(number) + myurl3)\n",
    "        else:\n",
    "            driver.get(myurl1 + str(tahun) + myurl2 + str(number) + myurl3)"
   ]
  },
  {
   "cell_type": "code",
   "execution_count": 24,
   "metadata": {},
   "outputs": [],
   "source": [
    "# DATA FOR SULAWESI TENGAH PROVINCE (2017 & 2018)\n",
    "# Download data KABKOT ONLY\n",
    "myurl1 = 'http://www.djpk.kemenkeu.go.id/portal/data/csv/'\n",
    "myurl2 = '/19/'\n",
    "myurl3 = '/apbd'\n",
    "\n",
    "for tahun in range(2017,2019):\n",
    "    for number in range(1, num_regency[19]+1):\n",
    "        if number < 10:\n",
    "            driver.get(myurl1 + str(tahun) + myurl2 + \"0\" + str(number) + myurl3)\n",
    "        else:\n",
    "            driver.get(myurl1 + str(tahun) + myurl2 + str(number) + myurl3)"
   ]
  },
  {
   "cell_type": "code",
   "execution_count": 28,
   "metadata": {},
   "outputs": [],
   "source": [
    "# DATA FOR SULAWESI SELATAN PROVINCE (2017 & 2018)\n",
    "# Download data KABKOT ONLY\n",
    "myurl1 = 'http://www.djpk.kemenkeu.go.id/portal/data/csv/'\n",
    "myurl2 = '/20/'\n",
    "myurl3 = '/apbd'\n",
    "\n",
    "# NOMOR 20 KOSONG JADI NAMBAH 1 LAGI DARI 24 JADI 25 (TOTAL ADA 23 KABKOT)\n",
    "for tahun in range(2017,2019):\n",
    "    for number in range(1, num_regency[20]+2):\n",
    "        if number < 10:\n",
    "            driver.get(myurl1 + str(tahun) + myurl2 + \"0\" + str(number) + myurl3)\n",
    "        else:\n",
    "            driver.get(myurl1 + str(tahun) + myurl2 + str(number) + myurl3)"
   ]
  },
  {
   "cell_type": "code",
   "execution_count": 29,
   "metadata": {},
   "outputs": [],
   "source": [
    "# DATA FOR SULAWESI TENGGARA PROVINCE (2017 & 2018)\n",
    "# Download data KABKOT ONLY\n",
    "myurl1 = 'http://www.djpk.kemenkeu.go.id/portal/data/csv/'\n",
    "myurl2 = '/21/'\n",
    "myurl3 = '/apbd'\n",
    "\n",
    "for tahun in range(2017,2019):\n",
    "    for number in range(1, num_regency[21]+1):\n",
    "        if number < 10:\n",
    "            driver.get(myurl1 + str(tahun) + myurl2 + \"0\" + str(number) + myurl3)\n",
    "        else:\n",
    "            driver.get(myurl1 + str(tahun) + myurl2 + str(number) + myurl3)"
   ]
  },
  {
   "cell_type": "code",
   "execution_count": 30,
   "metadata": {},
   "outputs": [],
   "source": [
    "# DATA FOR BALI PROVINCE (2017 & 2018)\n",
    "# Download data KABKOT ONLY\n",
    "myurl1 = 'http://www.djpk.kemenkeu.go.id/portal/data/csv/'\n",
    "myurl2 = '/22/'\n",
    "myurl3 = '/apbd'\n",
    "\n",
    "for tahun in range(2017,2019):\n",
    "    for number in range(1, num_regency[22]+1):\n",
    "        if number < 10:\n",
    "            driver.get(myurl1 + str(tahun) + myurl2 + \"0\" + str(number) + myurl3)\n",
    "        else:\n",
    "            driver.get(myurl1 + str(tahun) + myurl2 + str(number) + myurl3)"
   ]
  },
  {
   "cell_type": "code",
   "execution_count": 31,
   "metadata": {},
   "outputs": [],
   "source": [
    "# DATA FOR NTB PROVINCE (2017 & 2018)\n",
    "# Download data KABKOT ONLY\n",
    "myurl1 = 'http://www.djpk.kemenkeu.go.id/portal/data/csv/'\n",
    "myurl2 = '/23/'\n",
    "myurl3 = '/apbd'\n",
    "\n",
    "for tahun in range(2017,2019):\n",
    "    for number in range(1, num_regency[23]+1):\n",
    "        if number < 10:\n",
    "            driver.get(myurl1 + str(tahun) + myurl2 + \"0\" + str(number) + myurl3)\n",
    "        else:\n",
    "            driver.get(myurl1 + str(tahun) + myurl2 + str(number) + myurl3)"
   ]
  },
  {
   "cell_type": "code",
   "execution_count": 32,
   "metadata": {},
   "outputs": [],
   "source": [
    "# DATA FOR NTT PROVINCE (2017 & 2018)\n",
    "# Download data KABKOT ONLY\n",
    "myurl1 = 'http://www.djpk.kemenkeu.go.id/portal/data/csv/'\n",
    "myurl2 = '/24/'\n",
    "myurl3 = '/apbd'\n",
    "\n",
    "for tahun in range(2017,2019):\n",
    "    for number in range(1, num_regency[24]+1):\n",
    "        if number < 10:\n",
    "            driver.get(myurl1 + str(tahun) + myurl2 + \"0\" + str(number) + myurl3)\n",
    "        else:\n",
    "            driver.get(myurl1 + str(tahun) + myurl2 + str(number) + myurl3)"
   ]
  },
  {
   "cell_type": "code",
   "execution_count": 33,
   "metadata": {},
   "outputs": [],
   "source": [
    "# DATA FOR MALUKU PROVINCE (2017 & 2018)\n",
    "# Download data KABKOT ONLY\n",
    "myurl1 = 'http://www.djpk.kemenkeu.go.id/portal/data/csv/'\n",
    "myurl2 = '/25/'\n",
    "myurl3 = '/apbd'\n",
    "\n",
    "for tahun in range(2017,2019):\n",
    "    for number in range(1, num_regency[25]+1):\n",
    "        if number < 10:\n",
    "            driver.get(myurl1 + str(tahun) + myurl2 + \"0\" + str(number) + myurl3)\n",
    "        else:\n",
    "            driver.get(myurl1 + str(tahun) + myurl2 + str(number) + myurl3)"
   ]
  },
  {
   "cell_type": "code",
   "execution_count": 34,
   "metadata": {},
   "outputs": [],
   "source": [
    "# DATA FOR PAPUA PROVINCE (2017 & 2018)\n",
    "# Download data KABKOT ONLY\n",
    "myurl1 = 'http://www.djpk.kemenkeu.go.id/portal/data/csv/'\n",
    "myurl2 = '/26/'\n",
    "myurl3 = '/apbd'\n",
    "\n",
    "for tahun in range(2017,2019):\n",
    "    for number in range(1, num_regency[26]+1):\n",
    "        if number < 10:\n",
    "            driver.get(myurl1 + str(tahun) + myurl2 + \"0\" + str(number) + myurl3)\n",
    "        else:\n",
    "            driver.get(myurl1 + str(tahun) + myurl2 + str(number) + myurl3)"
   ]
  },
  {
   "cell_type": "code",
   "execution_count": 35,
   "metadata": {},
   "outputs": [],
   "source": [
    "# DATA FOR MALUKU UTARA PROVINCE (2017 & 2018)\n",
    "# Download data KABKOT ONLY\n",
    "myurl1 = 'http://www.djpk.kemenkeu.go.id/portal/data/csv/'\n",
    "myurl2 = '/27/'\n",
    "myurl3 = '/apbd'\n",
    "\n",
    "for tahun in range(2017,2019):\n",
    "    for number in range(1, num_regency[27]+1):\n",
    "        if number < 10:\n",
    "            driver.get(myurl1 + str(tahun) + myurl2 + \"0\" + str(number) + myurl3)\n",
    "        else:\n",
    "            driver.get(myurl1 + str(tahun) + myurl2 + str(number) + myurl3)"
   ]
  },
  {
   "cell_type": "code",
   "execution_count": 36,
   "metadata": {},
   "outputs": [],
   "source": [
    "# DATA FOR BANTEN PROVINCE (2017 & 2018)\n",
    "# Download data KABKOT ONLY\n",
    "myurl1 = 'http://www.djpk.kemenkeu.go.id/portal/data/csv/'\n",
    "myurl2 = '/28/'\n",
    "myurl3 = '/apbd'\n",
    "\n",
    "for tahun in range(2017,2019):\n",
    "    for number in range(1, num_regency[28]+1):\n",
    "        if number < 10:\n",
    "            driver.get(myurl1 + str(tahun) + myurl2 + \"0\" + str(number) + myurl3)\n",
    "        else:\n",
    "            driver.get(myurl1 + str(tahun) + myurl2 + str(number) + myurl3)"
   ]
  },
  {
   "cell_type": "code",
   "execution_count": 39,
   "metadata": {},
   "outputs": [],
   "source": [
    "# DATA FOR BANGKA BELITUNG PROVINCE (2017 & 2018)\n",
    "# Download data KABKOT ONLY\n",
    "myurl1 = 'http://www.djpk.kemenkeu.go.id/portal/data/csv/'\n",
    "myurl2 = '/29/'\n",
    "myurl3 = '/apbd'\n",
    "\n",
    "for tahun in range(2017,2019):\n",
    "    for number in range(1, num_regency[29]+1):\n",
    "        if number < 10:\n",
    "            driver.get(myurl1 + str(tahun) + myurl2 + \"0\" + str(number) + myurl3)\n",
    "        else:\n",
    "            driver.get(myurl1 + str(tahun) + myurl2 + str(number) + myurl3)"
   ]
  },
  {
   "cell_type": "code",
   "execution_count": 41,
   "metadata": {},
   "outputs": [],
   "source": [
    "# DATA FOR GORONTALO PROVINCE (2017 & 2018)\n",
    "# Download data KABKOT ONLY\n",
    "myurl1 = 'http://www.djpk.kemenkeu.go.id/portal/data/csv/'\n",
    "myurl2 = '/30/'\n",
    "myurl3 = '/apbd'\n",
    "\n",
    "for tahun in range(2017,2019):\n",
    "    for number in range(1, num_regency[30]+1):\n",
    "        if number < 10:\n",
    "            driver.get(myurl1 + str(tahun) + myurl2 + \"0\" + str(number) + myurl3)\n",
    "        else:\n",
    "            driver.get(myurl1 + str(tahun) + myurl2 + str(number) + myurl3)"
   ]
  },
  {
   "cell_type": "code",
   "execution_count": 44,
   "metadata": {},
   "outputs": [],
   "source": [
    "# DATA FOR KEPULAUAN RIAU PROVINCE (2017 & 2018)\n",
    "# Download data KABKOT ONLY\n",
    "myurl1 = 'http://www.djpk.kemenkeu.go.id/portal/data/csv/'\n",
    "myurl2 = '/31/'\n",
    "myurl3 = '/apbd'\n",
    "\n",
    "for tahun in range(2017,2019):\n",
    "    for number in range(1, num_regency[31]+1):\n",
    "        if number < 10:\n",
    "            driver.get(myurl1 + str(tahun) + myurl2 + \"0\" + str(number) + myurl3)\n",
    "        else:\n",
    "            driver.get(myurl1 + str(tahun) + myurl2 + str(number) + myurl3)"
   ]
  },
  {
   "cell_type": "code",
   "execution_count": 46,
   "metadata": {},
   "outputs": [],
   "source": [
    "# DATA FOR PAPUA BARAT PROVINCE (2017 & 2018)\n",
    "# Download data KABKOT ONLY\n",
    "myurl1 = 'http://www.djpk.kemenkeu.go.id/portal/data/csv/'\n",
    "myurl2 = '/32/'\n",
    "myurl3 = '/apbd'\n",
    "\n",
    "for tahun in range(2017,2019):\n",
    "    for number in range(1, num_regency[32]+1):\n",
    "        if number < 10:\n",
    "            driver.get(myurl1 + str(tahun) + myurl2 + \"0\" + str(number) + myurl3)\n",
    "        else:\n",
    "            driver.get(myurl1 + str(tahun) + myurl2 + str(number) + myurl3)"
   ]
  },
  {
   "cell_type": "code",
   "execution_count": 47,
   "metadata": {},
   "outputs": [],
   "source": [
    "# DATA FOR SULAWESI BARAT PROVINCE (2017 & 2018)\n",
    "# Download data KABKOT ONLY\n",
    "myurl1 = 'http://www.djpk.kemenkeu.go.id/portal/data/csv/'\n",
    "myurl2 = '/33/'\n",
    "myurl3 = '/apbd'\n",
    "\n",
    "for tahun in range(2017,2019):\n",
    "    for number in range(1, num_regency[33]+1):\n",
    "        if number < 10:\n",
    "            driver.get(myurl1 + str(tahun) + myurl2 + \"0\" + str(number) + myurl3)\n",
    "        else:\n",
    "            driver.get(myurl1 + str(tahun) + myurl2 + str(number) + myurl3)"
   ]
  },
  {
   "cell_type": "code",
   "execution_count": 48,
   "metadata": {},
   "outputs": [],
   "source": [
    "# DATA FOR KALIMANTAN UTARA PROVINCE (2017 & 2018)\n",
    "# Download data KABKOT ONLY\n",
    "myurl1 = 'http://www.djpk.kemenkeu.go.id/portal/data/csv/'\n",
    "myurl2 = '/34/'\n",
    "myurl3 = '/apbd'\n",
    "\n",
    "for tahun in range(2017,2019):\n",
    "    for number in range(1, num_regency[34]+1):\n",
    "        if number < 10:\n",
    "            driver.get(myurl1 + str(tahun) + myurl2 + \"0\" + str(number) + myurl3)\n",
    "        else:\n",
    "            driver.get(myurl1 + str(tahun) + myurl2 + str(number) + myurl3)"
   ]
  },
  {
   "cell_type": "markdown",
   "metadata": {},
   "source": [
    "# This is the final section of the code. If there is errata, critics or suggestions please dont hesitate to contact me. Thank You"
   ]
  }
 ],
 "metadata": {
  "hide_input": false,
  "kernelspec": {
   "display_name": "Python 3 (ipykernel)",
   "language": "python",
   "name": "python3"
  },
  "language_info": {
   "codemirror_mode": {
    "name": "ipython",
    "version": 3
   },
   "file_extension": ".py",
   "mimetype": "text/x-python",
   "name": "python",
   "nbconvert_exporter": "python",
   "pygments_lexer": "ipython3",
   "version": "3.9.7"
  },
  "toc": {
   "base_numbering": 1,
   "nav_menu": {},
   "number_sections": true,
   "sideBar": true,
   "skip_h1_title": false,
   "title_cell": "Table of Contents",
   "title_sidebar": "Contents",
   "toc_cell": false,
   "toc_position": {},
   "toc_section_display": true,
   "toc_window_display": false
  },
  "varInspector": {
   "cols": {
    "lenName": 16,
    "lenType": 16,
    "lenVar": 40
   },
   "kernels_config": {
    "python": {
     "delete_cmd_postfix": "",
     "delete_cmd_prefix": "del ",
     "library": "var_list.py",
     "varRefreshCmd": "print(var_dic_list())"
    },
    "r": {
     "delete_cmd_postfix": ") ",
     "delete_cmd_prefix": "rm(",
     "library": "var_list.r",
     "varRefreshCmd": "cat(var_dic_list()) "
    }
   },
   "types_to_exclude": [
    "module",
    "function",
    "builtin_function_or_method",
    "instance",
    "_Feature"
   ],
   "window_display": false
  }
 },
 "nbformat": 4,
 "nbformat_minor": 4
}
